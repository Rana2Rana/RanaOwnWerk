{
 "cells": [
  {
   "cell_type": "markdown",
   "metadata": {},
   "source": [
    "# Read and write files"
   ]
  },
  {
   "cell_type": "markdown",
   "metadata": {},
   "source": [
    "We have made good progress and now we can get down to the more serious task of manipulating files. This is one of the very important points concerning this training. \n",
    "\n",
    "\n",
    "N.B: Most of the files in `./data/` are files that we will use to understand how file opening works. They don't have a special purpose other than that. "
   ]
  },
  {
   "cell_type": "markdown",
   "metadata": {},
   "source": [
    "To open/edit a file in python we use the `open()` function.\n",
    "\n",
    "This function takes as first parameter the path of the file (*relative* or *absolute*) and as second parameter the type of opening, i.e. reading or writing mode.\n",
    "\n",
    "*A relative path in computing is a path that takes into account the current location.*\n",
    "The path is **relative** to where it is called from.\n",
    "\n",
    "*An absolute path is a complete path that can be read regardless of the reading location.*\n",
    "\n"
   ]
  },
  {
   "cell_type": "code",
   "execution_count": 72,
   "metadata": {},
   "outputs": [],
   "source": [
    "filename = \"./data/data.txt\"\n",
    "my_file = open(filename, \"r\")  # r for \"read\""
   ]
  },
  {
   "cell_type": "markdown",
   "metadata": {},
   "source": [
    "- `\"r\"`, for a read opening (READ).\n",
    "\n",
    "- `\"w\"`, for a write opening (WRITE), each time the file is opened, the content of the file is overwritten. If the file does not exist, Python creates it. \n",
    "\n",
    "    *The Python docs say that `w+` will \"overwrite the existing file if the file exists\". So as soon as you open a file with `w+`, it is now an empty file: it contains 0 bytes. If it used to contain data, that data has been truncated — cut off and thrown away — and now the file size is 0 bytes, so you can't read any of the data that existed before you opened the file with `w+`. If you actually wanted to read the previous data and add to it, you should use `r+` instead of `w+`* [[Source]](https://stackoverflow.com/questions/16208206/confused-by-python-file-mode-w#comment83227862_16208298)\n",
    "    \n",
    "    \n",
    "\n",
    "- `\"a\"`, for an opening in add mode at the end of the file (APPEND). If the file does not exist, Python creates it.\n",
    "\n",
    "- `\"x\"`, creates a new file and opens it for writing\n",
    "\n",
    "You can also append the character `+` and `b` to nearly all of the above commands. [[More info here]](https://stackabuse.com/file-handling-in-python/)"
   ]
  },
  {
   "cell_type": "markdown",
   "metadata": {},
   "source": [
    "Like any open element, it must be closed again once the instructions have been completed. To do this, we use the `close()` method."
   ]
  },
  {
   "cell_type": "code",
   "execution_count": 73,
   "metadata": {},
   "outputs": [],
   "source": [
    "my_file.close()"
   ]
  },
  {
   "cell_type": "code",
   "execution_count": 74,
   "metadata": {},
   "outputs": [
    {
     "name": "stdout",
     "output_type": "stream",
     "text": [
      "Hi everyone, I'm adding sentences to the file !\n"
     ]
    }
   ],
   "source": [
    "# Let's find out what's going on there\n",
    "my_file = open(filename, \"r\")\n",
    "print(my_file.read())\n",
    "my_file.close()"
   ]
  },
  {
   "cell_type": "markdown",
   "metadata": {},
   "source": [
    "Another possibility of opening without closing. That's a **best practice** and you should use that as much as you can."
   ]
  },
  {
   "cell_type": "code",
   "execution_count": 75,
   "metadata": {},
   "outputs": [
    {
     "name": "stdout",
     "output_type": "stream",
     "text": [
      "Hi everyone, I'm adding sentences to the file !\n"
     ]
    }
   ],
   "source": [
    "with open(filename, \"r\") as my_file:\n",
    "    print(my_file.read())"
   ]
  },
  {
   "cell_type": "markdown",
   "metadata": {},
   "source": [
    "**Can you put the contents of this file in the form of a list in which each element is a sentence ?**\n",
    "*(Use `.split()` for example...)*"
   ]
  },
  {
   "cell_type": "code",
   "execution_count": 76,
   "metadata": {},
   "outputs": [
    {
     "name": "stdout",
     "output_type": "stream",
     "text": [
      "['Hi everyone', \" I'm adding sentences to the file !\"]\n"
     ]
    }
   ],
   "source": [
    "# YOUR CODE HERE\n",
    "with open(filename,\"r\") as my_file:\n",
    "    m = my_file.readlines()\n",
    "    for each_element in m:\n",
    "        my_List = each_element.split(\",\")\n",
    "    print(my_List)\n"
   ]
  },
  {
   "cell_type": "markdown",
   "metadata": {},
   "source": [
    "To write in a file, just open a file (existing or not), write in it and close it. We open it in mode `\"w\"` so that the previous data is deleted and new data can be added."
   ]
  },
  {
   "cell_type": "code",
   "execution_count": 79,
   "metadata": {},
   "outputs": [
    {
     "name": "stdout",
     "output_type": "stream",
     "text": [
      "[\" Hi everyone, I'm adding sentences to the file ! \"]\n"
     ]
    }
   ],
   "source": [
    "newFile = \"./data/Rana.txt\"\n",
    "file = open(newFile, \"w\")\n",
    "file.write(\" Hi everyone, I'm adding sentences to the file ! \")\n",
    "file.close()\n",
    "\n",
    "# added from me to understand the effect of \"w\"-mode\n",
    "file = open(newFile, \"r\")\n",
    "print(file.readlines())\n",
    "file.close()\n"
   ]
  },
  {
   "cell_type": "markdown",
   "metadata": {},
   "source": [
    "Can you take the content of the `data.txt` file from the `.data/` directory, capitalize all the words and write them in the file that you created just before, after the sentences you added?\n",
    "\n"
   ]
  },
  {
   "cell_type": "code",
   "execution_count": 80,
   "metadata": {},
   "outputs": [],
   "source": [
    "# to open the two files one to read and the other to write:\n",
    "originFile = open(filename,\"r\") \n",
    "secondfile = open(newFile,\"a\")\n",
    "lines = originFile.readlines()\n",
    "    \n",
    "for each_line in lines:\n",
    "    secondfile.write(each_line.upper())\n",
    "    \n",
    "#print(secondfile.read())\n",
    "\n"
   ]
  },
  {
   "cell_type": "code",
   "execution_count": null,
   "metadata": {},
   "outputs": [],
   "source": [
    "# It's up to you to write the end\n",
    "array = []\n",
    "with open(filename, \"r+\") as input_file:\n",
    "    pass  # Add your code"
   ]
  },
  {
   "cell_type": "markdown",
   "metadata": {},
   "source": [
    "## Management of directory paths..."
   ]
  },
  {
   "cell_type": "markdown",
   "metadata": {},
   "source": [
    "The `os` module is a library that provides a portable way of using operating system dependent functionality.\n",
    "In this chapter, we are interested in using its powerful file path handling capabilities using `os.path`."
   ]
  },
  {
   "cell_type": "code",
   "execution_count": 29,
   "metadata": {},
   "outputs": [],
   "source": [
    "import os"
   ]
  },
  {
   "cell_type": "markdown",
   "metadata": {},
   "source": [
    "Each file or folder is associated with a kind of address that makes it easy to find it without errors. It is not possible to have a file with an identical name as another inside the same folder (except if the file extension is different).\n",
    "\n",
    "As said before, there are two kinds of paths: the absolute path from the root of your file system and the relative path from the folder being read."
   ]
  },
  {
   "cell_type": "markdown",
   "metadata": {},
   "source": [
    "By using `help` function, we can see the available methods."
   ]
  },
  {
   "cell_type": "code",
   "execution_count": 30,
   "metadata": {},
   "outputs": [
    {
     "name": "stdout",
     "output_type": "stream",
     "text": [
      "Help on module ntpath:\n",
      "\n",
      "NAME\n",
      "    ntpath - Common pathname manipulations, WindowsNT/95 version.\n",
      "\n",
      "MODULE REFERENCE\n",
      "    https://docs.python.org/3.10/library/ntpath.html\n",
      "    \n",
      "    The following documentation is automatically generated from the Python\n",
      "    source files.  It may be incomplete, incorrect or include features that\n",
      "    are considered implementation detail and may vary between Python\n",
      "    implementations.  When in doubt, consult the module reference at the\n",
      "    location listed above.\n",
      "\n",
      "DESCRIPTION\n",
      "    Instead of importing this module directly, import os and refer to this\n",
      "    module as os.path.\n",
      "\n",
      "FUNCTIONS\n",
      "    abspath(path)\n",
      "        Return the absolute version of a path.\n",
      "    \n",
      "    basename(p)\n",
      "        Returns the final component of a pathname\n",
      "    \n",
      "    commonpath(paths)\n",
      "        Given a sequence of path names, returns the longest common sub-path.\n",
      "    \n",
      "    commonprefix(m)\n",
      "        Given a list of pathnames, returns the longest common leading component\n",
      "    \n",
      "    dirname(p)\n",
      "        Returns the directory component of a pathname\n",
      "    \n",
      "    exists(path)\n",
      "        Test whether a path exists.  Returns False for broken symbolic links\n",
      "    \n",
      "    expanduser(path)\n",
      "        Expand ~ and ~user constructs.\n",
      "        \n",
      "        If user or $HOME is unknown, do nothing.\n",
      "    \n",
      "    expandvars(path)\n",
      "        Expand shell variables of the forms $var, ${var} and %var%.\n",
      "        \n",
      "        Unknown variables are left unchanged.\n",
      "    \n",
      "    getatime(filename)\n",
      "        Return the last access time of a file, reported by os.stat().\n",
      "    \n",
      "    getctime(filename)\n",
      "        Return the metadata change time of a file, reported by os.stat().\n",
      "    \n",
      "    getmtime(filename)\n",
      "        Return the last modification time of a file, reported by os.stat().\n",
      "    \n",
      "    getsize(filename)\n",
      "        Return the size of a file, reported by os.stat().\n",
      "    \n",
      "    isabs(s)\n",
      "        Test whether a path is absolute\n",
      "    \n",
      "    isdir(s)\n",
      "        Return true if the pathname refers to an existing directory.\n",
      "    \n",
      "    isfile(path)\n",
      "        Test whether a path is a regular file\n",
      "    \n",
      "    islink(path)\n",
      "        Test whether a path is a symbolic link.\n",
      "        This will always return false for Windows prior to 6.0.\n",
      "    \n",
      "    ismount(path)\n",
      "        Test whether a path is a mount point (a drive root, the root of a\n",
      "        share, or a mounted volume)\n",
      "    \n",
      "    join(path, *paths)\n",
      "        # Join two (or more) paths.\n",
      "    \n",
      "    lexists(path)\n",
      "        Test whether a path exists.  Returns True for broken symbolic links\n",
      "    \n",
      "    normcase(s)\n",
      "        Normalize case of pathname.\n",
      "        \n",
      "        Makes all characters lowercase and all slashes into backslashes.\n",
      "    \n",
      "    normpath(path)\n",
      "        Normalize path, eliminating double slashes, etc.\n",
      "    \n",
      "    realpath(path, *, strict=False)\n",
      "    \n",
      "    relpath(path, start=None)\n",
      "        Return a relative version of a path\n",
      "    \n",
      "    samefile(f1, f2)\n",
      "        Test whether two pathnames reference the same actual file or directory\n",
      "        \n",
      "        This is determined by the device number and i-node number and\n",
      "        raises an exception if an os.stat() call on either pathname fails.\n",
      "    \n",
      "    sameopenfile(fp1, fp2)\n",
      "        Test whether two open file objects reference the same file\n",
      "    \n",
      "    samestat(s1, s2)\n",
      "        Test whether two stat buffers reference the same file\n",
      "    \n",
      "    split(p)\n",
      "        Split a pathname.\n",
      "        \n",
      "        Return tuple (head, tail) where tail is everything after the final slash.\n",
      "        Either part may be empty.\n",
      "    \n",
      "    splitdrive(p)\n",
      "        Split a pathname into drive/UNC sharepoint and relative path specifiers.\n",
      "        Returns a 2-tuple (drive_or_unc, path); either part may be empty.\n",
      "        \n",
      "        If you assign\n",
      "            result = splitdrive(p)\n",
      "        It is always true that:\n",
      "            result[0] + result[1] == p\n",
      "        \n",
      "        If the path contained a drive letter, drive_or_unc will contain everything\n",
      "        up to and including the colon.  e.g. splitdrive(\"c:/dir\") returns (\"c:\", \"/dir\")\n",
      "        \n",
      "        If the path contained a UNC path, the drive_or_unc will contain the host name\n",
      "        and share up to but not including the fourth directory separator character.\n",
      "        e.g. splitdrive(\"//host/computer/dir\") returns (\"//host/computer\", \"/dir\")\n",
      "        \n",
      "        Paths cannot contain both a drive letter and a UNC path.\n",
      "    \n",
      "    splitext(p)\n",
      "        Split the extension from a pathname.\n",
      "        \n",
      "        Extension is everything from the last dot to the end, ignoring\n",
      "        leading dots.  Returns \"(root, ext)\"; ext may be empty.\n",
      "\n",
      "DATA\n",
      "    __all__ = ['normcase', 'isabs', 'join', 'splitdrive', 'split', 'splite...\n",
      "    altsep = '/'\n",
      "    curdir = '.'\n",
      "    defpath = r'.;C:\\bin'\n",
      "    devnull = 'nul'\n",
      "    extsep = '.'\n",
      "    pardir = '..'\n",
      "    pathsep = ';'\n",
      "    sep = r'\\'\n",
      "    supports_unicode_filenames = True\n",
      "\n",
      "FILE\n",
      "    c:\\users\\user\\appdata\\local\\programs\\python\\python310\\lib\\ntpath.py\n",
      "\n",
      "\n"
     ]
    }
   ],
   "source": [
    "help(os.path)"
   ]
  },
  {
   "cell_type": "markdown",
   "metadata": {},
   "source": [
    "To know your current absolute path, use `abspath('')`"
   ]
  },
  {
   "cell_type": "code",
   "execution_count": 31,
   "metadata": {},
   "outputs": [
    {
     "name": "stdout",
     "output_type": "stream",
     "text": [
      "c:\\Users\\user\\Desktop\\Training\\ANT-Theano-4\\content\\2.python\\2.python_advanced\\04.File-handling\n",
      "<class 'str'>\n"
     ]
    }
   ],
   "source": [
    "# In Python a path is a string, so there are methods to manipulate it.\n",
    "path = os.path.abspath(\"\")\n",
    "print(path)\n",
    "print(type(path))"
   ]
  },
  {
   "cell_type": "markdown",
   "metadata": {},
   "source": [
    " To know the part of the path that consists of directories, use `dirname(path)`."
   ]
  },
  {
   "cell_type": "code",
   "execution_count": 32,
   "metadata": {},
   "outputs": [
    {
     "data": {
      "text/plain": [
       "'c:\\\\Users\\\\user\\\\Desktop\\\\Training\\\\ANT-Theano-4\\\\content\\\\2.python\\\\2.python_advanced'"
      ]
     },
     "execution_count": 32,
     "metadata": {},
     "output_type": "execute_result"
    }
   ],
   "source": [
    "os.path.dirname(path)"
   ]
  },
  {
   "cell_type": "markdown",
   "metadata": {},
   "source": [
    "To only get the filename, use `basename(path)`."
   ]
  },
  {
   "cell_type": "code",
   "execution_count": 19,
   "metadata": {},
   "outputs": [
    {
     "data": {
      "text/plain": [
       "'04.File-handling'"
      ]
     },
     "execution_count": 19,
     "metadata": {},
     "output_type": "execute_result"
    }
   ],
   "source": [
    "os.path.basename(path)"
   ]
  },
  {
   "cell_type": "markdown",
   "metadata": {},
   "source": [
    "To add a directory, let's say `\"text\"` to the path, we use `join()`. \n",
    "\n",
    "The cool thing is that it is compatible across operating systems. Meaning that on Windows it will automatically add `\\` between the arguments of `os.path.join`, and on Linux it will add `/`. The same code thus works on every operating system!"
   ]
  },
  {
   "cell_type": "code",
   "execution_count": 33,
   "metadata": {},
   "outputs": [
    {
     "name": "stdout",
     "output_type": "stream",
     "text": [
      "c:\\Users\\user\\Desktop\\Training\\ANT-Theano-4\\content\\2.python\\2.python_advanced\\04.File-handling\\text\n"
     ]
    }
   ],
   "source": [
    "rep_text = os.path.join(path, \"text\")\n",
    "print(rep_text)"
   ]
  },
  {
   "cell_type": "markdown",
   "metadata": {},
   "source": [
    "To retrieve all the elements of a folder as a list, you can use the `listdir()` method."
   ]
  },
  {
   "cell_type": "code",
   "execution_count": 53,
   "metadata": {},
   "outputs": [
    {
     "name": "stdout",
     "output_type": "stream",
     "text": [
      "Help on list object:\n",
      "\n",
      "class list(object)\n",
      " |  list(iterable=(), /)\n",
      " |  \n",
      " |  Built-in mutable sequence.\n",
      " |  \n",
      " |  If no argument is given, the constructor creates a new empty list.\n",
      " |  The argument must be an iterable if specified.\n",
      " |  \n",
      " |  Methods defined here:\n",
      " |  \n",
      " |  __add__(self, value, /)\n",
      " |      Return self+value.\n",
      " |  \n",
      " |  __contains__(self, key, /)\n",
      " |      Return key in self.\n",
      " |  \n",
      " |  __delitem__(self, key, /)\n",
      " |      Delete self[key].\n",
      " |  \n",
      " |  __eq__(self, value, /)\n",
      " |      Return self==value.\n",
      " |  \n",
      " |  __ge__(self, value, /)\n",
      " |      Return self>=value.\n",
      " |  \n",
      " |  __getattribute__(self, name, /)\n",
      " |      Return getattr(self, name).\n",
      " |  \n",
      " |  __getitem__(...)\n",
      " |      x.__getitem__(y) <==> x[y]\n",
      " |  \n",
      " |  __gt__(self, value, /)\n",
      " |      Return self>value.\n",
      " |  \n",
      " |  __iadd__(self, value, /)\n",
      " |      Implement self+=value.\n",
      " |  \n",
      " |  __imul__(self, value, /)\n",
      " |      Implement self*=value.\n",
      " |  \n",
      " |  __init__(self, /, *args, **kwargs)\n",
      " |      Initialize self.  See help(type(self)) for accurate signature.\n",
      " |  \n",
      " |  __iter__(self, /)\n",
      " |      Implement iter(self).\n",
      " |  \n",
      " |  __le__(self, value, /)\n",
      " |      Return self<=value.\n",
      " |  \n",
      " |  __len__(self, /)\n",
      " |      Return len(self).\n",
      " |  \n",
      " |  __lt__(self, value, /)\n",
      " |      Return self<value.\n",
      " |  \n",
      " |  __mul__(self, value, /)\n",
      " |      Return self*value.\n",
      " |  \n",
      " |  __ne__(self, value, /)\n",
      " |      Return self!=value.\n",
      " |  \n",
      " |  __repr__(self, /)\n",
      " |      Return repr(self).\n",
      " |  \n",
      " |  __reversed__(self, /)\n",
      " |      Return a reverse iterator over the list.\n",
      " |  \n",
      " |  __rmul__(self, value, /)\n",
      " |      Return value*self.\n",
      " |  \n",
      " |  __setitem__(self, key, value, /)\n",
      " |      Set self[key] to value.\n",
      " |  \n",
      " |  __sizeof__(self, /)\n",
      " |      Return the size of the list in memory, in bytes.\n",
      " |  \n",
      " |  append(self, object, /)\n",
      " |      Append object to the end of the list.\n",
      " |  \n",
      " |  clear(self, /)\n",
      " |      Remove all items from list.\n",
      " |  \n",
      " |  copy(self, /)\n",
      " |      Return a shallow copy of the list.\n",
      " |  \n",
      " |  count(self, value, /)\n",
      " |      Return number of occurrences of value.\n",
      " |  \n",
      " |  extend(self, iterable, /)\n",
      " |      Extend list by appending elements from the iterable.\n",
      " |  \n",
      " |  index(self, value, start=0, stop=9223372036854775807, /)\n",
      " |      Return first index of value.\n",
      " |      \n",
      " |      Raises ValueError if the value is not present.\n",
      " |  \n",
      " |  insert(self, index, object, /)\n",
      " |      Insert object before index.\n",
      " |  \n",
      " |  pop(self, index=-1, /)\n",
      " |      Remove and return item at index (default last).\n",
      " |      \n",
      " |      Raises IndexError if list is empty or index is out of range.\n",
      " |  \n",
      " |  remove(self, value, /)\n",
      " |      Remove first occurrence of value.\n",
      " |      \n",
      " |      Raises ValueError if the value is not present.\n",
      " |  \n",
      " |  reverse(self, /)\n",
      " |      Reverse *IN PLACE*.\n",
      " |  \n",
      " |  sort(self, /, *, key=None, reverse=False)\n",
      " |      Sort the list in ascending order and return None.\n",
      " |      \n",
      " |      The sort is in-place (i.e. the list itself is modified) and stable (i.e. the\n",
      " |      order of two equal elements is maintained).\n",
      " |      \n",
      " |      If a key function is given, apply it once to each list item and sort them,\n",
      " |      ascending or descending, according to their function values.\n",
      " |      \n",
      " |      The reverse flag can be set to sort in descending order.\n",
      " |  \n",
      " |  ----------------------------------------------------------------------\n",
      " |  Class methods defined here:\n",
      " |  \n",
      " |  __class_getitem__(...) from builtins.type\n",
      " |      See PEP 585\n",
      " |  \n",
      " |  ----------------------------------------------------------------------\n",
      " |  Static methods defined here:\n",
      " |  \n",
      " |  __new__(*args, **kwargs) from builtins.type\n",
      " |      Create and return a new object.  See help(type) for accurate signature.\n",
      " |  \n",
      " |  ----------------------------------------------------------------------\n",
      " |  Data and other attributes defined here:\n",
      " |  \n",
      " |  __hash__ = None\n",
      "\n"
     ]
    }
   ],
   "source": [
    "help(os.listdir())"
   ]
  },
  {
   "cell_type": "code",
   "execution_count": 34,
   "metadata": {},
   "outputs": [
    {
     "data": {
      "text/plain": [
       "['01.OOP',\n",
       " '02.Exception-handling',\n",
       " '03.Regex',\n",
       " '04.File-handling',\n",
       " '05.Scraping',\n",
       " '06.Concurrency',\n",
       " '07.Decorator',\n",
       " '08.Typing',\n",
       " '09.Good_practices',\n",
       " '10.Data-structure',\n",
       " '11.unittest']"
      ]
     },
     "execution_count": 34,
     "metadata": {},
     "output_type": "execute_result"
    }
   ],
   "source": [
    "# Items are returned as a list and includes folders and hidden files.\n",
    "os.listdir(\"../\")"
   ]
  },
  {
   "cell_type": "markdown",
   "metadata": {},
   "source": [
    "### How to display all the elements of a folder as well as its child folders? \n",
    "\n",
    "With the `walk()` function:\n",
    "\n",
    "```\n",
    "walk(top, topdown=True, onerror=None, followlinks=False)\n",
    "```\n"
   ]
  },
  {
   "cell_type": "code",
   "execution_count": 9,
   "metadata": {},
   "outputs": [
    {
     "name": "stdout",
     "output_type": "stream",
     "text": [
      "c:\\Users\\user\\Desktop\\Training\\ANT-Theano-4\\content\\2.python\\2.python_advanced\\04.File-handling\n",
      "comptagevelo2017.xlsx\n",
      "data.txt\n",
      "discours_politicien.zip\n",
      "file_handling.ipynb\n",
      "final.txt\n",
      "L'équipe,du sport en continu..html\n",
      "lequipe-du sport en continu._files\n",
      "mail.txt\n",
      "Rana.txt\n",
      "VOEUX01.txt\n",
      "VOEUX05.txt\n",
      "VOEUX06.txt\n",
      "VOEUX07.txt\n",
      "VOEUX08.txt\n",
      "VOEUX09.txt\n",
      "VOEUX74.txt\n",
      "VOEUX75.txt\n",
      "VOEUX79.txt\n",
      "VOEUX83.txt\n",
      "VOEUX87.txt\n",
      "VOEUX89.txt\n",
      "VOEUX90.txt\n",
      "VOEUX94.txt\n",
      "weather_2012.csv\n",
      "weather_2017.csv\n",
      "write.txt\n",
      "comptagevelo2017.csv\n",
      "comptagevelo2017.xlsx\n",
      "data.txt\n",
      "discours_politicien.zip\n",
      "L'équipe,du sport en continu..html\n",
      "mail.txt\n",
      "Rana.txt\n",
      "VOEUX01.txt\n",
      "VOEUX05.txt\n",
      "VOEUX06.txt\n",
      "VOEUX07.txt\n",
      "VOEUX08.txt\n",
      "VOEUX09.txt\n",
      "VOEUX74.txt\n",
      "VOEUX75.txt\n",
      "VOEUX79.txt\n",
      "VOEUX83.txt\n",
      "VOEUX87.txt\n",
      "VOEUX89.txt\n",
      "VOEUX90.txt\n",
      "VOEUX94.txt\n",
      "weather_2012.csv\n",
      "weather_2017.csv\n",
      "write.txt\n",
      "0a315.jpg\n",
      "0CA20181029124202ADs201810291242024F98d8q4aBxcs.js\n",
      "0d3f9.png\n",
      "0f245.jpg\n",
      "110.png\n",
      "125278988146629\n",
      "140(1).jpg\n",
      "140(10).jpg\n",
      "140(11).jpg\n",
      "140(2).jpg\n",
      "140(3).jpg\n",
      "140(4).jpg\n",
      "140(5).jpg\n",
      "140(6).jpg\n",
      "140(7).jpg\n",
      "140(8).jpg\n",
      "140(9).jpg\n",
      "140.jpg\n",
      "1ce06.jpg\n",
      "1x1.a\n",
      "201b8.jpg\n",
      "20d4b.jpg\n",
      "226ee.jpg\n",
      "2402-245398-48616-4(1).gif\n",
      "2402-245398-48616-4.gif\n",
      "275(1).jpg\n",
      "275(2).jpg\n",
      "275(3).jpg\n",
      "275(4).jpg\n",
      "275(5).jpg\n",
      "275.jpg\n",
      "30b06.jpg\n",
      "3b4c8.jpg\n",
      "3c6f0.jpg\n",
      "44ddc.jpg\n",
      "49d3b.jpg\n",
      "4f412.jpg\n",
      "6636b.jpg\n",
      "67b5b.jpg\n",
      "6f4bb.jpg\n",
      "6uQTKQJz(1).html\n",
      "6uQTKQJz.html\n",
      "800(1).jpg\n",
      "800.jpg\n",
      "ads-cch-20181026165210.js\n",
      "f(10).txt\n",
      "f(2).txt\n",
      "f(3).txt\n",
      "f(4).txt\n",
      "f(5).txt\n",
      "f(6).txt\n",
      "f(7).txt\n",
      "f(8).txt\n",
      "f(9).txt\n",
      "f.txt\n",
      "f21a9.jpg\n",
      "f3de7.jpg\n",
      "fb0a7.jpg\n",
      "fbevents.js\n",
      "gather_id\n",
      "gather_id(1)\n",
      "gen_204(1).gif\n",
      "gen_204.gif\n",
      "get\n",
      "get(1)\n",
      "get(2)\n",
      "getids\n",
      "gpt.js\n",
      "guid.html\n",
      "html_inpage_rendering_lib_200_243.js\n",
      "hudactive.html\n",
      "styles.css\n",
      "SVG-EFR(1).svg\n",
      "SVG-EFR.svg\n",
      "tag.min.js\n",
      "V6zvOIoD.js\n",
      "wamfactory_dpm.lequipe.min.js\n",
      "widget.css\n",
      "widget.js\n",
      "widgetGlobalEvent\n",
      "widgetGlobalEvent(1)\n",
      "widgetGlobalEvent(2)\n",
      "wonderpush-loader.min.js\n",
      "wonderpush.min.html\n",
      "wonderpush.min.js\n"
     ]
    }
   ],
   "source": [
    "folder_path = os.path.abspath(\"./\")\n",
    "print(folder_path)\n",
    "\n",
    "for path, dirs, files in os.walk(folder_path):\n",
    "    for filename in files:\n",
    "        print(filename)"
   ]
  },
  {
   "cell_type": "markdown",
   "metadata": {},
   "source": [
    "Put all the **`.txt` files** from the `data/` directory into a variable.\n",
    "    Then, copy the content of all the files from this variable into a file in `data/` that you will name `final.txt`.\n"
   ]
  },
  {
   "cell_type": "code",
   "execution_count": null,
   "metadata": {},
   "outputs": [],
   "source": []
  },
  {
   "cell_type": "code",
   "execution_count": 82,
   "metadata": {},
   "outputs": [
    {
     "name": "stdout",
     "output_type": "stream",
     "text": [
      "c:\\Users\\user\\Desktop\\Training\\ANT-Theano-4\\content\\2.python\\2.python_advanced\\04.File-handling\\data\n",
      "The text files are: \n",
      " []\n"
     ]
    }
   ],
   "source": [
    "# \n",
    "folder_path = os.path.abspath(\"./data\")\n",
    "print(folder_path)\n",
    "\n",
    "newfilesList = []\n",
    "textfiles = []\n",
    "\n",
    "# put all files in one variable list3\n",
    "\n",
    "list2 = os.listdir()\n",
    "allfiles = os.listdir(list2[0])\n",
    "#print(allfiles)\n",
    "\n",
    "#put all text file in one list:\n",
    "\n",
    "for each_file in allfiles:\n",
    "    if each_file.endswith('.txt'):\n",
    "        textfiles.append(each_file)\n",
    "\n",
    "# creat a new file final.txt in append mode:\n",
    "originFile = \"\"\n",
    "final = open(\"final.txt\",'a+')\n",
    "\n",
    "# copy each file contents into final.txt:\n",
    "for file_1 in textfiles:\n",
    "    filename_ = f\"./data/{file_1}\"\n",
    "    originFile = open(filename_,'r')\n",
    "\n",
    "    lines = originFile.readlines()\n",
    "    \n",
    "    for each_line in lines:\n",
    "        final.write(each_line)\n",
    "\n",
    "                 \n",
    "#print(\"The text files are: \\n\",final.readlines())\n"
   ]
  },
  {
   "cell_type": "code",
   "execution_count": 6,
   "metadata": {},
   "outputs": [
    {
     "name": "stdout",
     "output_type": "stream",
     "text": [
      "c:\\Users\\user\\Desktop\\Training\\ANT-Theano-4\\content\\2.python\\2.python_advanced\\04.File-handling\\data\n"
     ]
    }
   ],
   "source": [
    "# Try a code to open the zip file without extrating:\n",
    "# To deal with Zip file I should import the zipfile module:\n",
    "\n",
    "import zipfile\n",
    "import io\n",
    "\n",
    "xpath = os.path.abspath(\"./data\")\n",
    "print(xpath)\n",
    "target = '.\\data\\discours_politicien.zip'\n",
    "Listt = zipfile.ZipFile(target)\n",
    "handell = Listt.namelist()\n",
    "#print(handell)\n",
    "for x in handell:\n",
    "    with io.TextIOWrapper(Listt.open(x), encoding='utf8', errors='ignore') as f:\n",
    "        data = f.readlines()\n",
    "\n",
    "        for line in data:\n",
    "            zip_List.append(line)\n",
    "#print(zip_List)\n"
   ]
  },
  {
   "cell_type": "markdown",
   "metadata": {},
   "source": [
    "New task. Using a loop, can you open all the files from your `data/` directory and save all their contents in a variable ?"
   ]
  },
  {
   "cell_type": "code",
   "execution_count": 21,
   "metadata": {},
   "outputs": [
    {
     "name": "stdout",
     "output_type": "stream",
     "text": [
      "c:\\Users\\user\\Desktop\\Training\\ANT-Theano-4\\content\\2.python\\2.python_advanced\\04.File-handling\\data\n",
      "[]\n",
      "./data/comptagevelo2017.xlsx\n",
      "<openpyxl.workbook.workbook.Workbook object at 0x00000198541C09D0>\n",
      "[<Worksheet \"comptagevelo2017\">]\n",
      "[<Worksheet \"comptagevelo2017\">]\n",
      "[<Worksheet \"comptagevelo2017\">]\n",
      "[<Worksheet \"comptagevelo2017\">]\n",
      "[<Worksheet \"comptagevelo2017\">]\n",
      "[<Worksheet \"comptagevelo2017\">]\n",
      "[<Worksheet \"comptagevelo2017\">]\n",
      "[<Worksheet \"comptagevelo2017\">]\n",
      "[<Worksheet \"comptagevelo2017\">]\n",
      "[<Worksheet \"comptagevelo2017\">]\n",
      "[<Worksheet \"comptagevelo2017\">]\n",
      "[<Worksheet \"comptagevelo2017\">]\n",
      "[<Worksheet \"comptagevelo2017\">]\n",
      "[<Worksheet \"comptagevelo2017\">]\n",
      "[<Worksheet \"comptagevelo2017\">]\n",
      "[<Worksheet \"comptagevelo2017\">]\n",
      "[<Worksheet \"comptagevelo2017\">]\n",
      "[<Worksheet \"comptagevelo2017\">]\n",
      "[<Worksheet \"comptagevelo2017\">]\n",
      "[<Worksheet \"comptagevelo2017\">]\n",
      "[<Worksheet \"comptagevelo2017\">]\n",
      "[<Worksheet \"comptagevelo2017\">]\n",
      "[<Worksheet \"comptagevelo2017\">]\n",
      "[<Worksheet \"comptagevelo2017\">]\n"
     ]
    }
   ],
   "source": [
    "import zipfile\n",
    "import io\n",
    "import csv                  # used to read csv files\n",
    "import openpyxl             # used to read xlsx files\n",
    "from pathlib import Path     # used to read xlsx files\n",
    "\n",
    "#\n",
    "# opening the directory\n",
    "xpath = os.path.abspath(\"./data\")\n",
    "print(xpath)\n",
    "\n",
    "# put all files in a list named SuperList:\n",
    "SuperList = os.listdir('./data')\n",
    "#print(len(SuperList),\"\\n\",SuperList)\n",
    "\n",
    "# Creat sub-variables \"\" the values of dictionary\"for every type of files:\n",
    "txt_List= []\n",
    "csv_List = []\n",
    "zip_List = []\n",
    "xlsx_List = []\n",
    "folder_List = []\n",
    "\n",
    "# check the type of each file:\n",
    "# open the file with its own method\n",
    "# read the file\n",
    "# append the contents in its list\n",
    "\n",
    "\n",
    "for each_File in SuperList:\n",
    "    \n",
    "    if each_File == \"lequipe-du sport en continu._files\":\n",
    "        for path, dirs, files in os.walk(\"./data/lequipe-du sport en continu._files\"):\n",
    "            for filename in files:\n",
    "                fname = f\"./data/lequipe-du sport en continu._files/{filename}\"\n",
    "                folderfile = open(fname,'r', encoding='utf8', errors='ignore')\n",
    "                for line in folderfile.readlines():\n",
    "                    folder_List.append(line)\n",
    "        #print(folder_List)\n",
    "        \n",
    "    # check if the file is zip-file if true open and read without extracting and put all the content in zip_list.\n",
    "    elif each_File.endswith('.zip'):\n",
    "        \n",
    "        target = '.\\data\\discours_politicien.zip'\n",
    "        Listt = zipfile.ZipFile(target)\n",
    "        handell = Listt.namelist()\n",
    "\n",
    "        for x in handell:\n",
    "            with io.TextIOWrapper(Listt.open(x), encoding='utf8', errors='ignore') as f:\n",
    "                data = f.readlines()\n",
    "                for line in data:\n",
    "                    zip_List.append(line)\n",
    "\n",
    "    # check if the type is txt then open and read        \n",
    "    elif each_File.endswith('.txt'):\n",
    "        file_name = f\"./data/{each_File}\"\n",
    "        NewList = open(file_name,'r')\n",
    "        Nline = NewList.readlines()\n",
    "        for eline in Nline:\n",
    "            txt_List.append(eline)\n",
    "\n",
    "    # check if it is csv file:\n",
    "    elif each_File.endswith('.csv'):\n",
    "        csvfile_name = f\"./data/{each_File}\"\n",
    "        with open(csvfile_name, 'r') as file :\n",
    "            my_reader = csv.reader(file, delimiter=',')\n",
    "            for row in my_reader:\n",
    "                csv_List.append(row)\n",
    "    #print(csv_List)\n",
    "\n",
    "    # check if it is xlxs file:\n",
    "    elif each_File.endswith('.xlsx'):\n",
    "        xlsx_file_name = f\"./data/{each_File}\"\n",
    "        print(xlsx_file_name)\n",
    "        # to creat the werkbook object\n",
    "        xlsxFile_wb = openpyxl.load_workbook(xlsx_file_name)\n",
    "        print(xlsxFile_wb)\n",
    "        # make the werkbook active sheet:\n",
    "        activeFile = xlsxFile_wb.active\n",
    "\n",
    "        xlsx_List.append(activeFile) \n",
    "    #print(xlsx_List)       \n",
    "        \n",
    "# creat a dictionary with keys and values the keys are the names of filetypes and the values are their own lists\n",
    "final_dictionary = {}\n",
    "final_dictionary[\"Text File\"] = txt_List\n",
    "final_dictionary[\"CSV File\"] = csv_List\n",
    "final_dictionary[\"Xlxs File\"] = xlsx_List\n",
    "final_dictionary[\"zip File\"] = zip_List\n",
    "final_dictionary[\" Subfolder\"] = folder_List\n",
    "\n",
    "##print(final_dictionary)\n",
    "\n",
    "\n",
    "\n"
   ]
  },
  {
   "cell_type": "code",
   "execution_count": null,
   "metadata": {},
   "outputs": [],
   "source": []
  },
  {
   "cell_type": "markdown",
   "metadata": {},
   "source": [
    "Finally, save this concatenated information (assemblies) in a new file."
   ]
  },
  {
   "cell_type": "code",
   "execution_count": null,
   "metadata": {},
   "outputs": [],
   "source": []
  }
 ],
 "metadata": {
  "kernelspec": {
   "display_name": "Python 3",
   "language": "python",
   "name": "python3"
  },
  "language_info": {
   "codemirror_mode": {
    "name": "ipython",
    "version": 3
   },
   "file_extension": ".py",
   "mimetype": "text/x-python",
   "name": "python",
   "nbconvert_exporter": "python",
   "pygments_lexer": "ipython3",
   "version": "3.10.4"
  }
 },
 "nbformat": 4,
 "nbformat_minor": 2
}
