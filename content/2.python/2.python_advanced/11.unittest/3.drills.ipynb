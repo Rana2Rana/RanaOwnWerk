{
 "cells": [
  {
   "cell_type": "markdown",
   "metadata": {},
   "source": [
    "# Drills - unit testing\n",
    "Now that you have the basics, let's do some drills!\n",
    "\n",
    "Create a unittest for each of these functions."
   ]
  },
  {
   "cell_type": "markdown",
   "metadata": {},
   "source": [
    "## Custom exception\n",
    "We define here some custom exception."
   ]
  },
  {
   "cell_type": "code",
   "execution_count": 1,
   "metadata": {},
   "outputs": [],
   "source": [
    "class InvalidArgumentException(Exception):\n",
    "    \"\"\"Raised when a param is invalid.\"\"\"\n",
    "\n",
    "    pass"
   ]
  },
  {
   "cell_type": "markdown",
   "metadata": {},
   "source": [
    "## Addition\n",
    "Check the result for those arguments:\n",
    "* `[1, 1]`\n",
    "* `[2, 3]`\n",
    "* `[5, 2]`\n",
    "* `[20, 4]`\n",
    "* `[0, 200]`\n",
    "* `[2999, 231234]`\n",
    "* `[0, 0]`\n",
    "\n",
    "In addition, create a test that checks that `InvalidArgumentException` is raised correctly if you give something else than an `int` to the function.\n",
    "Check for: `string, float, dict, list`"
   ]
  },
  {
   "cell_type": "code",
   "execution_count": 3,
   "metadata": {},
   "outputs": [],
   "source": [
    "def addition(number_one: int, number_two: int) -> int:\n",
    "    if not isinstance(number_one, int) or not isinstance(number_two, int):\n",
    "        raise InvalidArgumentException(\"A parameter is not an int!\")\n",
    "    return number_one + number_two"
   ]
  },
  {
   "cell_type": "code",
   "execution_count": 19,
   "metadata": {},
   "outputs": [
    {
     "name": "stderr",
     "output_type": "stream",
     "text": [
      ".F\n",
      "======================================================================\n",
      "FAIL: test_substraction (__main__.TestSubtraction)\n",
      "Test the add function.\n",
      "----------------------------------------------------------------------\n",
      "Traceback (most recent call last):\n",
      "  File \"C:\\Users\\user\\AppData\\Local\\Temp\\ipykernel_21300\\3046036948.py\", line 21, in test_substraction\n",
      "    self.assertEqual(test_26, -288235)\n",
      "AssertionError: -228235 != -288235\n",
      "\n",
      "----------------------------------------------------------------------\n",
      "Ran 2 tests in 0.002s\n",
      "\n",
      "FAILED (failures=1)\n"
     ]
    },
    {
     "data": {
      "text/plain": [
       "<unittest.main.TestProgram at 0x1ff77923d90>"
      ]
     },
     "execution_count": 19,
     "metadata": {},
     "output_type": "execute_result"
    }
   ],
   "source": [
    "# Add your unit test here\n",
    "import unittest\n",
    "class TestMath(unittest.TestCase):\n",
    "    \"\"\"Class that will test the addition function.\"\"\"\n",
    "    def test_addition(self):\n",
    "\n",
    "        test_1 = addition(1, 1)\n",
    "        test_2 = addition(2, 3)\n",
    "        test_3 = addition(5, 2)\n",
    "        test_4 = addition(20,4)\n",
    "        test_5 = addition(0, 200)\n",
    "        test_6 = addition(2999, 231234)\n",
    "        test_7 = addition(0, 0)\n",
    "\n",
    "\n",
    "        self.assertEqual(test_1, 2)\n",
    "        self.assertEqual(test_2, 5)\n",
    "        self.assertEqual(test_3, 7)\n",
    "        self.assertEqual(test_4, 24)\n",
    "        self.assertEqual(test_5, 200)\n",
    "        self.assertEqual(test_6, 234233)\n",
    "        self.assertEqual(test_7, 0)\n",
    "\n",
    "\n",
    "unittest.main(argv=[\"first-arg-is-ignored\"], exit=False)\n",
    "\n"
   ]
  },
  {
   "cell_type": "markdown",
   "metadata": {},
   "source": [
    "## Subtraction\n",
    "\n",
    "Check the result for those arguments:\n",
    "* `[1, 1]`\n",
    "* `[2, 3]`\n",
    "* `[5, 2]`\n",
    "* `[20, 4]`\n",
    "* `[0, 200]`\n",
    "* `[2999, 231234]`\n",
    "* `[0, 0]`\n",
    "\n",
    "In addition, create a test that checks that `InvalidArgumentException` is raised correctly if you give something else than an `int` to the function. Check for: string, float, dict, list."
   ]
  },
  {
   "cell_type": "code",
   "execution_count": 15,
   "metadata": {},
   "outputs": [],
   "source": [
    "def substraction(number_one: int, number_two: int) -> int:\n",
    "    if not isinstance(number_one, int) or not isinstance(number_two, int):\n",
    "        raise InvalidArgumentException(\"A param is not an int!\")\n",
    "    return number_one - number_two"
   ]
  },
  {
   "cell_type": "code",
   "execution_count": 20,
   "metadata": {},
   "outputs": [
    {
     "name": "stderr",
     "output_type": "stream",
     "text": [
      "..\n",
      "----------------------------------------------------------------------\n",
      "Ran 2 tests in 0.002s\n",
      "\n",
      "OK\n"
     ]
    },
    {
     "data": {
      "text/plain": [
       "<unittest.main.TestProgram at 0x1ff7786f5b0>"
      ]
     },
     "execution_count": 20,
     "metadata": {},
     "output_type": "execute_result"
    }
   ],
   "source": [
    "# Add your unit test here\n",
    "class TestSubtraction(unittest.TestCase):\n",
    "    \"\"\"Class that will testthe subtraction function.\"\"\"\n",
    "    def test_substraction(self):\n",
    "\n",
    "        test_21 = substraction(1, 1)\n",
    "        test_22 = substraction(2, 3)\n",
    "        test_23 = substraction(5, 2)\n",
    "        test_24 = substraction(20,4)\n",
    "        test_25 = substraction(0, 200)\n",
    "        test_26 = substraction(2999, 231234)\n",
    "        test_27 = substraction(0, 0)\n",
    "\n",
    "\n",
    "        self.assertEqual(test_21, 0)\n",
    "        self.assertEqual(test_22, -1)\n",
    "        self.assertEqual(test_23, 3)\n",
    "        self.assertEqual(test_24, 16)\n",
    "        self.assertEqual(test_25, -200)\n",
    "        self.assertEqual(test_26, -228235)\n",
    "        self.assertEqual(test_27, 0)\n",
    "\n",
    "\n",
    "unittest.main(argv=[\"first-arg-is-ignored\"], exit=False)\n"
   ]
  },
  {
   "cell_type": "markdown",
   "metadata": {},
   "source": [
    "## Divide\n",
    "Here is a function that returns a float and can take a float or an int as parameter.\n",
    "\n",
    "Create a test that will check the result of those arguments:\n",
    "* `[1, 1]`\n",
    "* `[2, 3]`\n",
    "* `[5, 2]`\n",
    "* `[20, 4]`\n",
    "* `[0, 200]`\n",
    "* `[2999, 231234]`\n",
    "* `[0, 0]`\n",
    "* `[5, 0]`\n",
    "* `[5, \"9\"]`\n",
    "* `[5, [1, 2]]`\n",
    "* `[2, {\"param2\": 2}]`\n",
    "\n",
    "For each parameter, check that the result is the expected type (a string if one the arguments is bad, otherwise a float)."
   ]
  },
  {
   "cell_type": "code",
   "execution_count": 22,
   "metadata": {},
   "outputs": [],
   "source": [
    "from typing import Union\n",
    "\n",
    "\n",
    "def divide(\n",
    "    number_one: Union[int, float], number_two: Union[int, float]\n",
    ") -> Union[float, str]:\n",
    "    try:\n",
    "        result = number_one / number_two\n",
    "    except ZeroDivisionError:\n",
    "        result = \"You can't divide by zero!\"\n",
    "    except Exception as ex:\n",
    "        result = f\"An argument is not an int or a float! -> {ex}\"\n",
    "\n",
    "    return result"
   ]
  },
  {
   "cell_type": "code",
   "execution_count": 31,
   "metadata": {},
   "outputs": [
    {
     "name": "stderr",
     "output_type": "stream",
     "text": [
      "..F\n",
      "======================================================================\n",
      "FAIL: test_divition (__main__.Testdivition)\n",
      "----------------------------------------------------------------------\n",
      "Traceback (most recent call last):\n",
      "  File \"C:\\Users\\user\\AppData\\Local\\Temp\\ipykernel_21300\\4043492342.py\", line 24, in test_divition\n",
      "    self.assertEqual(test_28, \"An argument is not an int or a float! -> {Exception}\")\n",
      "AssertionError: \"An argument is not an int or a float! ->[47 chars]str'\" != 'An argument is not an int or a float! -> {Exception}'\n",
      "- An argument is not an int or a float! -> unsupported operand type(s) for /: 'int' and 'str'\n",
      "+ An argument is not an int or a float! -> {Exception}\n",
      "\n",
      "\n",
      "----------------------------------------------------------------------\n",
      "Ran 3 tests in 0.006s\n",
      "\n",
      "FAILED (failures=1)\n"
     ]
    },
    {
     "data": {
      "text/plain": [
       "<unittest.main.TestProgram at 0x1ff77922ef0>"
      ]
     },
     "execution_count": 31,
     "metadata": {},
     "output_type": "execute_result"
    }
   ],
   "source": [
    "# Add your unit test here \n",
    "class Testdivition(unittest.TestCase):\n",
    "    \"\"\"Class that will testthe subtraction function.\"\"\"\n",
    "    def test_divition(self):\n",
    "\n",
    "        test_21 = divide(1, 1)\n",
    "        test_22 = divide(2, 3)\n",
    "        test_23 = divide(5, 2)\n",
    "        test_24 = divide(20,4)\n",
    "        test_25 = divide(0, 200)\n",
    "        test_26 = divide(2999, 231234)\n",
    "        test_27 = divide(0, 0)\n",
    "        test_28 = divide(5, '9')\n",
    "        test_29 = divide(5,[1, 2])\n",
    "\n",
    "\n",
    "        self.assertEqual(test_21, 1)\n",
    "        self.assertEqual(test_22, 0.6666666666666666)\n",
    "        self.assertEqual(test_23, 2.5)\n",
    "        self.assertEqual(test_24, 5)\n",
    "        self.assertEqual(test_25, 0)\n",
    "        self.assertEqual(test_26, 0.012969546001020611)\n",
    "        self.assertEqual(test_27, \"You can't divide by zero!\")\n",
    "        self.assertEqual(test_28, \"An argument is not an int or a float! -> {Exception}\")\n",
    "        self.assertEqual(test_29, \"An argument is not an int or a float!\")\n",
    "\n",
    "\n",
    "unittest.main(argv=[\"first-arg-is-ignored\"], exit=False)\n"
   ]
  },
  {
   "cell_type": "markdown",
   "metadata": {},
   "source": [
    "## File handling\n",
    "\n",
    "1. Create a function `create_and_delete_test_file()` that creates a new file named `test.txt`, adds `'this is a text'` in it then deletes the file.\n",
    "2. Create a test that checks if the file is well created.\n",
    "3. Create a test to check that the content of the file is `'this is a text'`. You will need to find a way to prevent the function to delete the file during this specific test.\n",
    "4. Create a test to check that the function deletes the file."
   ]
  },
  {
   "cell_type": "code",
   "execution_count": 2,
   "metadata": {},
   "outputs": [
    {
     "name": "stdout",
     "output_type": "stream",
     "text": [
      "None\n"
     ]
    }
   ],
   "source": [
    "import os\n",
    "# Create create_and_delete_test_file()\n",
    "def create_and_delete_test_file():\n",
    "    filename = \"test.txt\"\n",
    "    currentfile = open(filename,'w')\n",
    "    currentfile.write(\"this is a text\")\n",
    "    currentfile.close()\n",
    "    os.remove(\"test.txt\")\n",
    "\n",
    "print(create_and_delete_test_file())"
   ]
  },
  {
   "cell_type": "code",
   "execution_count": null,
   "metadata": {},
   "outputs": [],
   "source": [
    "# Add your unit test here"
   ]
  },
  {
   "cell_type": "markdown",
   "metadata": {},
   "source": [
    "You might have noticed that it is quite difficult to make the unit tests work for such a complicated function.\n",
    "How about separating the concern and creating separate functions for each particular action ?"
   ]
  },
  {
   "cell_type": "code",
   "execution_count": 9,
   "metadata": {},
   "outputs": [
    {
     "name": "stderr",
     "output_type": "stream",
     "text": [
      "C:\\Users\\user\\AppData\\Local\\Temp\\ipykernel_22868\\2151364440.py:18: ResourceWarning: unclosed file <_io.TextIOWrapper name='test.txt' mode='a+' encoding='cp1252'>\n",
      "  file1 = creatFile()\n",
      "ResourceWarning: Enable tracemalloc to get the object allocation traceback\n",
      "F\n",
      "======================================================================\n",
      "FAIL: test_creating_file (__main__.testfile)\n",
      "----------------------------------------------------------------------\n",
      "Traceback (most recent call last):\n",
      "  File \"C:\\Users\\user\\AppData\\Local\\Temp\\ipykernel_22868\\2151364440.py\", line 20, in test_creating_file\n",
      "    self.assertTrue(file1,\"this is a text!\")\n",
      "AssertionError: None is not true : this is a text!\n",
      "\n",
      "----------------------------------------------------------------------\n",
      "Ran 1 test in 0.002s\n",
      "\n",
      "FAILED (failures=1)\n"
     ]
    },
    {
     "name": "stdout",
     "output_type": "stream",
     "text": [
      "\n"
     ]
    },
    {
     "data": {
      "text/plain": [
       "<unittest.main.TestProgram at 0x286760413c0>"
      ]
     },
     "execution_count": 9,
     "metadata": {},
     "output_type": "execute_result"
    }
   ],
   "source": [
    "\n",
    "\n",
    "import os\n",
    "import unittest\n",
    "    \n",
    "def creatFile():\n",
    "        filename = \"test.txt\"\n",
    "        currentfile = open(filename,'a+')\n",
    "        currentfile.write(\"this is a text!\")\n",
    "        print(currentfile.read())\n",
    "\n",
    "\n",
    "def deletingFile(filename: str):\n",
    "        os.remove(f\"{filename}\")\n",
    "\n",
    "class testfile(unittest.TestCase):\n",
    "\n",
    "    def test_creating_file(self):\n",
    "\n",
    "        file1 = creatFile()\n",
    "\n",
    "        self.assertTrue(file1,\"this is a text!\")\n",
    "        self.assertEqual(file1,)\n",
    "\n",
    "unittest.main(argv=[\"first-arg-is-ignored\"], exit=False)\n",
    "        \n"
   ]
  }
 ],
 "metadata": {
  "interpreter": {
   "hash": "fb4569285eef3a3450cb62085a5b1e0da4bce0af555edc33dcf29baf3acc1368"
  },
  "kernelspec": {
   "display_name": "Python 3.10.4 64-bit",
   "language": "python",
   "name": "python3"
  },
  "language_info": {
   "codemirror_mode": {
    "name": "ipython",
    "version": 3
   },
   "file_extension": ".py",
   "mimetype": "text/x-python",
   "name": "python",
   "nbconvert_exporter": "python",
   "pygments_lexer": "ipython3",
   "version": "3.10.4"
  }
 },
 "nbformat": 4,
 "nbformat_minor": 4
}
