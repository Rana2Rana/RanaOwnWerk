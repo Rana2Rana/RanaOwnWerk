{
 "cells": [
  {
   "cell_type": "markdown",
   "metadata": {},
   "source": [
    "# Numpy exercises\n",
    "\n",
    "This is a collection of exercises that have been collected in the numpy mailing list, on stack overflow\n",
    "and in the numpy documentation. The goal of this collection is to offer a quick reference for both old\n",
    "and new users but also to provide a set of exercises for those who teach.\n",
    "\n",
    "In this notebook, you will find 30 exercises that are essential to practice and learn numpy. If you want to do further exploration, you can continue working on `02.Extra_Drill_numpy.ipynb`."
   ]
  },
  {
   "cell_type": "markdown",
   "metadata": {},
   "source": [
    "#### 1. Import the numpy package under the name `np` (★☆☆)"
   ]
  },
  {
   "cell_type": "code",
   "execution_count": 1,
   "metadata": {},
   "outputs": [],
   "source": [
    "import numpy as np"
   ]
  },
  {
   "cell_type": "markdown",
   "metadata": {},
   "source": [
    "#### 2. Print the numpy version and the configuration (★☆☆)"
   ]
  },
  {
   "cell_type": "code",
   "execution_count": 4,
   "metadata": {},
   "outputs": [
    {
     "name": "stdout",
     "output_type": "stream",
     "text": [
      "openblas64__info:\n",
      "    library_dirs = ['D:\\\\a\\\\1\\\\s\\\\numpy\\\\build\\\\openblas64__info']\n",
      "    libraries = ['openblas64__info']\n",
      "    language = f77\n",
      "    define_macros = [('HAVE_CBLAS', None), ('BLAS_SYMBOL_SUFFIX', '64_'), ('HAVE_BLAS_ILP64', None)]\n",
      "blas_ilp64_opt_info:\n",
      "    library_dirs = ['D:\\\\a\\\\1\\\\s\\\\numpy\\\\build\\\\openblas64__info']\n",
      "    libraries = ['openblas64__info']\n",
      "    language = f77\n",
      "    define_macros = [('HAVE_CBLAS', None), ('BLAS_SYMBOL_SUFFIX', '64_'), ('HAVE_BLAS_ILP64', None)]\n",
      "openblas64__lapack_info:\n",
      "    library_dirs = ['D:\\\\a\\\\1\\\\s\\\\numpy\\\\build\\\\openblas64__lapack_info']\n",
      "    libraries = ['openblas64__lapack_info']\n",
      "    language = f77\n",
      "    define_macros = [('HAVE_CBLAS', None), ('BLAS_SYMBOL_SUFFIX', '64_'), ('HAVE_BLAS_ILP64', None), ('HAVE_LAPACKE', None)]\n",
      "lapack_ilp64_opt_info:\n",
      "    library_dirs = ['D:\\\\a\\\\1\\\\s\\\\numpy\\\\build\\\\openblas64__lapack_info']\n",
      "    libraries = ['openblas64__lapack_info']\n",
      "    language = f77\n",
      "    define_macros = [('HAVE_CBLAS', None), ('BLAS_SYMBOL_SUFFIX', '64_'), ('HAVE_BLAS_ILP64', None), ('HAVE_LAPACKE', None)]\n",
      "Supported SIMD extensions in this NumPy install:\n",
      "    baseline = SSE,SSE2,SSE3\n",
      "    found = SSSE3,SSE41,POPCNT,SSE42,AVX,F16C,FMA3,AVX2,AVX512F,AVX512CD,AVX512_SKX,AVX512_CLX,AVX512_CNL\n",
      "    not found = \n",
      "1.22.3 None\n"
     ]
    }
   ],
   "source": [
    "print(np.__version__,np.show_config())"
   ]
  },
  {
   "cell_type": "markdown",
   "metadata": {},
   "source": [
    "#### 3. Create a null vector of size 10 (★☆☆)"
   ]
  },
  {
   "cell_type": "code",
   "execution_count": 6,
   "metadata": {},
   "outputs": [
    {
     "name": "stdout",
     "output_type": "stream",
     "text": [
      "[0. 0. 0. 0. 0. 0. 0. 0. 0. 0.]\n"
     ]
    }
   ],
   "source": [
    "B = np.zeros(10)\n",
    "print(B)"
   ]
  },
  {
   "cell_type": "markdown",
   "metadata": {},
   "source": [
    "#### 4. How to find the memory size of any array (★☆☆)"
   ]
  },
  {
   "cell_type": "code",
   "execution_count": 7,
   "metadata": {},
   "outputs": [
    {
     "name": "stdout",
     "output_type": "stream",
     "text": [
      "10\n"
     ]
    }
   ],
   "source": [
    "print(B.size)"
   ]
  },
  {
   "cell_type": "markdown",
   "metadata": {},
   "source": [
    "#### 5. How to get the documentation of the numpy add function from the command line? (★☆☆)"
   ]
  },
  {
   "cell_type": "code",
   "execution_count": 8,
   "metadata": {},
   "outputs": [
    {
     "name": "stdout",
     "output_type": "stream",
     "text": [
      "add(x1, x2, /, out=None, *, where=True, casting='same_kind', order='K', dtype=None, subok=True[, signature, extobj])\n",
      "\n",
      "Add arguments element-wise.\n",
      "\n",
      "Parameters\n",
      "----------\n",
      "x1, x2 : array_like\n",
      "    The arrays to be added.\n",
      "    If ``x1.shape != x2.shape``, they must be broadcastable to a common\n",
      "    shape (which becomes the shape of the output).\n",
      "out : ndarray, None, or tuple of ndarray and None, optional\n",
      "    A location into which the result is stored. If provided, it must have\n",
      "    a shape that the inputs broadcast to. If not provided or None,\n",
      "    a freshly-allocated array is returned. A tuple (possible only as a\n",
      "    keyword argument) must have length equal to the number of outputs.\n",
      "where : array_like, optional\n",
      "    This condition is broadcast over the input. At locations where the\n",
      "    condition is True, the `out` array will be set to the ufunc result.\n",
      "    Elsewhere, the `out` array will retain its original value.\n",
      "    Note that if an uninitialized `out` array is created via the default\n",
      "    ``out=None``, locations within it where the condition is False will\n",
      "    remain uninitialized.\n",
      "**kwargs\n",
      "    For other keyword-only arguments, see the\n",
      "    :ref:`ufunc docs <ufuncs.kwargs>`.\n",
      "\n",
      "Returns\n",
      "-------\n",
      "add : ndarray or scalar\n",
      "    The sum of `x1` and `x2`, element-wise.\n",
      "    This is a scalar if both `x1` and `x2` are scalars.\n",
      "\n",
      "Notes\n",
      "-----\n",
      "Equivalent to `x1` + `x2` in terms of array broadcasting.\n",
      "\n",
      "Examples\n",
      "--------\n",
      ">>> np.add(1.0, 4.0)\n",
      "5.0\n",
      ">>> x1 = np.arange(9.0).reshape((3, 3))\n",
      ">>> x2 = np.arange(3.0)\n",
      ">>> np.add(x1, x2)\n",
      "array([[  0.,   2.,   4.],\n",
      "       [  3.,   5.,   7.],\n",
      "       [  6.,   8.,  10.]])\n",
      "\n",
      "The ``+`` operator can be used as a shorthand for ``np.add`` on ndarrays.\n",
      "\n",
      ">>> x1 = np.arange(9.0).reshape((3, 3))\n",
      ">>> x2 = np.arange(3.0)\n",
      ">>> x1 + x2\n",
      "array([[ 0.,  2.,  4.],\n",
      "       [ 3.,  5.,  7.],\n",
      "       [ 6.,  8., 10.]])\n",
      "None\n"
     ]
    }
   ],
   "source": [
    "print(np.info(np.add))"
   ]
  },
  {
   "cell_type": "markdown",
   "metadata": {},
   "source": [
    "#### 6. Create a null vector of size 10 but the fifth value which is 1 (★☆☆)"
   ]
  },
  {
   "cell_type": "code",
   "execution_count": 11,
   "metadata": {},
   "outputs": [
    {
     "name": "stdout",
     "output_type": "stream",
     "text": [
      "[0. 0. 0. 0. 1. 0. 0. 0. 0. 0.]\n"
     ]
    }
   ],
   "source": [
    "A = np.zeros(10)\n",
    "A[4]=1\n",
    "print(A)"
   ]
  },
  {
   "cell_type": "markdown",
   "metadata": {},
   "source": [
    "#### 7. Create a vector with values ranging from 10 to 49 (★☆☆)"
   ]
  },
  {
   "cell_type": "code",
   "execution_count": 17,
   "metadata": {},
   "outputs": [
    {
     "name": "stdout",
     "output_type": "stream",
     "text": [
      "[10 11 12 13 14 15 16 17 18 19 20 21 22 23 24 25 26 27 28 29 30 31 32 33\n",
      " 34 35 36 37 38 39 40 41 42 43 44 45 46 47 48 49]\n"
     ]
    }
   ],
   "source": [
    "A = np.arange(10,50)\n",
    "print(A)"
   ]
  },
  {
   "cell_type": "markdown",
   "metadata": {},
   "source": [
    "#### 8. Reverse a vector (first element becomes last) (★☆☆)"
   ]
  },
  {
   "cell_type": "code",
   "execution_count": 18,
   "metadata": {},
   "outputs": [
    {
     "name": "stdout",
     "output_type": "stream",
     "text": [
      "[49 48 47 46 45 44 43 42 41 40 39 38 37 36 35 34 33 32 31 30 29 28 27 26\n",
      " 25 24 23 22 21 20 19 18 17 16 15 14 13 12 11 10]\n"
     ]
    }
   ],
   "source": [
    "print(np.flip(A))"
   ]
  },
  {
   "cell_type": "markdown",
   "metadata": {},
   "source": [
    "#### 9. Create a 3x3 matrix with values ranging from 0 to 8 (★☆☆)"
   ]
  },
  {
   "cell_type": "code",
   "execution_count": 16,
   "metadata": {},
   "outputs": [
    {
     "name": "stdout",
     "output_type": "stream",
     "text": [
      "[[0 1 2]\n",
      " [3 4 5]\n",
      " [6 7 8]]\n"
     ]
    }
   ],
   "source": [
    "A = np.arange(0,9)\n",
    "A = A.reshape(3,3)\n",
    "print(A)"
   ]
  },
  {
   "cell_type": "markdown",
   "metadata": {},
   "source": [
    "#### 10. Find indices of non-zero elements from [1,2,0,0,4,0] (★☆☆)"
   ]
  },
  {
   "cell_type": "code",
   "execution_count": 19,
   "metadata": {},
   "outputs": [
    {
     "name": "stdout",
     "output_type": "stream",
     "text": [
      "(array([0, 1, 4], dtype=int64),)\n"
     ]
    }
   ],
   "source": [
    "B = np.array([1, 2, 0, 0, 4, 0 ])\n",
    "indices = np.where(B != 0)\n",
    "print(indices)"
   ]
  },
  {
   "cell_type": "markdown",
   "metadata": {},
   "source": [
    "#### 11. Create a 3x3 identity matrix (★☆☆)"
   ]
  },
  {
   "cell_type": "code",
   "execution_count": 20,
   "metadata": {},
   "outputs": [
    {
     "name": "stdout",
     "output_type": "stream",
     "text": [
      "[[1. 0. 0.]\n",
      " [0. 1. 0.]\n",
      " [0. 0. 1.]]\n"
     ]
    }
   ],
   "source": [
    "C = np.eye(3,3)\n",
    "print(C)"
   ]
  },
  {
   "cell_type": "markdown",
   "metadata": {},
   "source": [
    "#### 12. Create a 3x3x3 array with random values (★☆☆)"
   ]
  },
  {
   "cell_type": "code",
   "execution_count": 26,
   "metadata": {},
   "outputs": [
    {
     "name": "stdout",
     "output_type": "stream",
     "text": [
      "[[[0.85309885 0.3249988  0.95407221]\n",
      "  [0.49744489 0.54242712 0.99982134]\n",
      "  [0.4285498  0.54310685 0.39660315]]\n",
      "\n",
      " [[0.13613245 0.09121551 0.15980218]\n",
      "  [0.62584968 0.44015642 0.63354804]\n",
      "  [0.537975   0.18569315 0.08916845]]\n",
      "\n",
      " [[0.00331804 0.17536872 0.16645246]\n",
      "  [0.56023005 0.19141593 0.54537335]\n",
      "  [0.65070305 0.05447123 0.61429035]]]\n"
     ]
    }
   ],
   "source": [
    "My_array = np.random.random((3,3,3))\n",
    "print(My_array)"
   ]
  },
  {
   "cell_type": "markdown",
   "metadata": {},
   "source": [
    "#### 13. Create a 10x10 array with random values and find the minimum and maximum values (★☆☆)"
   ]
  },
  {
   "cell_type": "code",
   "execution_count": 34,
   "metadata": {},
   "outputs": [
    {
     "name": "stdout",
     "output_type": "stream",
     "text": [
      " amax(a, axis=None, out=None, keepdims=<no value>, initial=<no value>,\n",
      "      where=<no value>)\n",
      "\n",
      "Return the maximum of an array or maximum along an axis.\n",
      "\n",
      "Parameters\n",
      "----------\n",
      "a : array_like\n",
      "    Input data.\n",
      "axis : None or int or tuple of ints, optional\n",
      "    Axis or axes along which to operate.  By default, flattened input is\n",
      "    used.\n",
      "\n",
      "    .. versionadded:: 1.7.0\n",
      "\n",
      "    If this is a tuple of ints, the maximum is selected over multiple axes,\n",
      "    instead of a single axis or all the axes as before.\n",
      "out : ndarray, optional\n",
      "    Alternative output array in which to place the result.  Must\n",
      "    be of the same shape and buffer length as the expected output.\n",
      "    See :ref:`ufuncs-output-type` for more details.\n",
      "\n",
      "keepdims : bool, optional\n",
      "    If this is set to True, the axes which are reduced are left\n",
      "    in the result as dimensions with size one. With this option,\n",
      "    the result will broadcast correctly against the input array.\n",
      "\n",
      "    If the default value is passed, then `keepdims` will not be\n",
      "    passed through to the `amax` method of sub-classes of\n",
      "    `ndarray`, however any non-default value will be.  If the\n",
      "    sub-class' method does not implement `keepdims` any\n",
      "    exceptions will be raised.\n",
      "\n",
      "initial : scalar, optional\n",
      "    The minimum value of an output element. Must be present to allow\n",
      "    computation on empty slice. See `~numpy.ufunc.reduce` for details.\n",
      "\n",
      "    .. versionadded:: 1.15.0\n",
      "\n",
      "where : array_like of bool, optional\n",
      "    Elements to compare for the maximum. See `~numpy.ufunc.reduce`\n",
      "    for details.\n",
      "\n",
      "    .. versionadded:: 1.17.0\n",
      "\n",
      "Returns\n",
      "-------\n",
      "amax : ndarray or scalar\n",
      "    Maximum of `a`. If `axis` is None, the result is a scalar value.\n",
      "    If `axis` is given, the result is an array of dimension\n",
      "    ``a.ndim - 1``.\n",
      "\n",
      "See Also\n",
      "--------\n",
      "amin :\n",
      "    The minimum value of an array along a given axis, propagating any NaNs.\n",
      "nanmax :\n",
      "    The maximum value of an array along a given axis, ignoring any NaNs.\n",
      "maximum :\n",
      "    Element-wise maximum of two arrays, propagating any NaNs.\n",
      "fmax :\n",
      "    Element-wise maximum of two arrays, ignoring any NaNs.\n",
      "argmax :\n",
      "    Return the indices of the maximum values.\n",
      "\n",
      "nanmin, minimum, fmin\n",
      "\n",
      "Notes\n",
      "-----\n",
      "NaN values are propagated, that is if at least one item is NaN, the\n",
      "corresponding max value will be NaN as well. To ignore NaN values\n",
      "(MATLAB behavior), please use nanmax.\n",
      "\n",
      "Don't use `amax` for element-wise comparison of 2 arrays; when\n",
      "``a.shape[0]`` is 2, ``maximum(a[0], a[1])`` is faster than\n",
      "``amax(a, axis=0)``.\n",
      "\n",
      "Examples\n",
      "--------\n",
      ">>> a = np.arange(4).reshape((2,2))\n",
      ">>> a\n",
      "array([[0, 1],\n",
      "       [2, 3]])\n",
      ">>> np.amax(a)           # Maximum of the flattened array\n",
      "3\n",
      ">>> np.amax(a, axis=0)   # Maxima along the first axis\n",
      "array([2, 3])\n",
      ">>> np.amax(a, axis=1)   # Maxima along the second axis\n",
      "array([1, 3])\n",
      ">>> np.amax(a, where=[False, True], initial=-1, axis=0)\n",
      "array([-1,  3])\n",
      ">>> b = np.arange(5, dtype=float)\n",
      ">>> b[2] = np.NaN\n",
      ">>> np.amax(b)\n",
      "nan\n",
      ">>> np.amax(b, where=~np.isnan(b), initial=-1)\n",
      "4.0\n",
      ">>> np.nanmax(b)\n",
      "4.0\n",
      "\n",
      "You can use an initial value to compute the maximum of an empty slice, or\n",
      "to initialize it to a different value:\n",
      "\n",
      ">>> np.amax([[-50], [10]], axis=-1, initial=0)\n",
      "array([ 0, 10])\n",
      "\n",
      "Notice that the initial value is used as one of the elements for which the\n",
      "maximum is determined, unlike for the default argument Python's max\n",
      "function, which is only used for empty iterables.\n",
      "\n",
      ">>> np.amax([5], initial=6)\n",
      "6\n",
      ">>> max([5], default=6)\n",
      "5\n",
      "None\n"
     ]
    }
   ],
   "source": [
    "print(np.info(np.max))"
   ]
  },
  {
   "cell_type": "code",
   "execution_count": 31,
   "metadata": {},
   "outputs": [
    {
     "name": "stdout",
     "output_type": "stream",
     "text": [
      " The maximum value is: 0.992806525245351 \n",
      " The minimum value is: 0.00216115225677016\n"
     ]
    }
   ],
   "source": [
    "C = np.random.random((10,10))\n",
    "print(f\" The maximum value is: {C.max()} \\n The minimum value is: {C.min()}\")"
   ]
  },
  {
   "cell_type": "markdown",
   "metadata": {},
   "source": [
    "#### 14. Create a random vector of size 30 and find the mean value (★☆☆)"
   ]
  },
  {
   "cell_type": "code",
   "execution_count": 37,
   "metadata": {},
   "outputs": [
    {
     "name": "stdout",
     "output_type": "stream",
     "text": [
      "[0.19193567 0.88883325 0.65036768 0.33952211 0.77436007 0.96424123\n",
      " 0.44309108 0.10115016 0.48804777 0.90762946 0.74575132 0.66042018\n",
      " 0.66250092 0.3345829  0.77209132 0.04354398 0.06208203 0.64536802\n",
      " 0.73818409 0.58249212 0.13815722 0.42737066 0.40864289 0.82807941\n",
      " 0.14334997 0.39605248 0.55017245 0.06849604 0.83961802 0.14230665]\n",
      "The mean value is: 0.4979480377678438\n"
     ]
    }
   ],
   "source": [
    "My_array = np.random.random((30))\n",
    "print(My_array)\n",
    "print(f\"The mean value is: {My_array.mean()}\")"
   ]
  },
  {
   "cell_type": "markdown",
   "metadata": {},
   "source": [
    "#### 15. Create a 2d array with 1 on the border and 0 inside (★☆☆)"
   ]
  },
  {
   "cell_type": "code",
   "execution_count": 52,
   "metadata": {},
   "outputs": [
    {
     "name": "stdout",
     "output_type": "stream",
     "text": [
      "[[1. 1. 1. 1.]\n",
      " [1. 0. 0. 1.]\n",
      " [1. 0. 0. 1.]\n",
      " [1. 1. 1. 1.]]\n"
     ]
    }
   ],
   "source": [
    "My_array = np.ones((4,4))\n",
    "# print(X)\n",
    "My_array[1:-1,1:-1] = 0\n",
    "print(My_array)\n",
    "\n",
    "\n"
   ]
  },
  {
   "cell_type": "markdown",
   "metadata": {},
   "source": [
    "#### 16. How to add a border (filled with 0's) around an existing array? (★☆☆)"
   ]
  },
  {
   "cell_type": "code",
   "execution_count": 53,
   "metadata": {},
   "outputs": [
    {
     "name": "stdout",
     "output_type": "stream",
     "text": [
      "The existing array is: \n",
      " [[1. 1. 1. 1.]\n",
      " [1. 0. 0. 1.]\n",
      " [1. 0. 0. 1.]\n",
      " [1. 1. 1. 1.]]\n",
      "The new array is: \n",
      " [[0. 0. 0. 0. 0. 0.]\n",
      " [0. 1. 1. 1. 1. 0.]\n",
      " [0. 1. 0. 0. 1. 0.]\n",
      " [0. 1. 0. 0. 1. 0.]\n",
      " [0. 1. 1. 1. 1. 0.]\n",
      " [0. 0. 0. 0. 0. 0.]]\n"
     ]
    }
   ],
   "source": [
    "print(f\"The existing array is: \\n {My_array}\")\n",
    "My_array = np.pad(My_array, pad_width= 1, mode= \"constant\", constant_values= 0)\n",
    "print(f\"The new array is: \\n {My_array}\")"
   ]
  },
  {
   "cell_type": "markdown",
   "metadata": {},
   "source": [
    "#### 17. What is the result of the following expression? (★☆☆)\n",
    "```python\n",
    "0 * np.nan\n",
    "np.nan == np.nan\n",
    "np.inf > np.nan\n",
    "np.nan - np.nan\n",
    "np.nan in set([np.nan])\n",
    "0.3 == 3 * 0.1\n",
    "```"
   ]
  },
  {
   "cell_type": "code",
   "execution_count": 66,
   "metadata": {},
   "outputs": [
    {
     "name": "stdout",
     "output_type": "stream",
     "text": [
      "Convert a string or number to a floating point number, if possible.\n",
      "None\n",
      "0 * np.nan -->  nan\n",
      "np.nan == np.nan -->  False\n",
      "inf\n",
      "np.inf > np.nan -->  False\n",
      "np.nan - np.nan -->  nan\n",
      "np.nan in set([np.nan]) -->  True\n",
      "0.3 == 3 * 0.1 -->  False\n"
     ]
    }
   ],
   "source": [
    "print(np.info(np.nan))\n",
    "x= 0* np.nan\n",
    "print(f\"0 * np.nan -->  {x}\")\n",
    "x = np.nan == np.nan\n",
    "print(f\"np.nan == np.nan -->  {x}\")\n",
    "x = np.inf > np.nan\n",
    "print(np.inf)\n",
    "print(f\"np.inf > np.nan -->  {x}\")\n",
    "x = np.nan - np.nan\n",
    "print(f\"np.nan - np.nan -->  {x}\")\n",
    "\n",
    "print(f\"np.nan in set([np.nan]) -->  {np.nan in set([np.nan])}\")\n",
    "\n",
    "print(f\"0.3 == 3 * 0.1 -->  {0.3 == 3 * 0.1}\")\n"
   ]
  },
  {
   "cell_type": "markdown",
   "metadata": {},
   "source": [
    "#### 18. Create a 5x5 matrix with values 1,2,3,4 just below the diagonal (★☆☆)"
   ]
  },
  {
   "cell_type": "code",
   "execution_count": 67,
   "metadata": {},
   "outputs": [
    {
     "name": "stdout",
     "output_type": "stream",
     "text": [
      "[[0 0 0 0 0]\n",
      " [1 0 0 0 0]\n",
      " [0 2 0 0 0]\n",
      " [0 0 3 0 0]\n",
      " [0 0 0 4 0]]\n"
     ]
    }
   ],
   "source": [
    "X = np.diag([1,2,3,4],-1)\n",
    "print(X)"
   ]
  },
  {
   "cell_type": "markdown",
   "metadata": {},
   "source": [
    "#### 19. Create a 8x8 matrix and fill it with a checkerboard pattern (★☆☆)"
   ]
  },
  {
   "cell_type": "code",
   "execution_count": 80,
   "metadata": {},
   "outputs": [
    {
     "name": "stdout",
     "output_type": "stream",
     "text": [
      "[[0. 1. 0. 1. 0. 1. 0. 1.]\n",
      " [1. 0. 1. 0. 1. 0. 1. 0.]\n",
      " [0. 1. 0. 1. 0. 1. 0. 1.]\n",
      " [1. 0. 1. 0. 1. 0. 1. 0.]\n",
      " [0. 1. 0. 1. 0. 1. 0. 1.]\n",
      " [1. 0. 1. 0. 1. 0. 1. 0.]\n",
      " [0. 1. 0. 1. 0. 1. 0. 1.]\n",
      " [1. 0. 1. 0. 1. 0. 1. 0.]]\n"
     ]
    }
   ],
   "source": [
    "A = np.zeros((8,8))\n",
    "A[1::2,::2]= 1\n",
    "A[::2,1::2]=1\n",
    "# A[::2,1::2]= 1\n",
    "print(A)\n"
   ]
  },
  {
   "cell_type": "markdown",
   "metadata": {},
   "source": [
    "#### 20. Consider a (6,7,8) shape array, what is the index (x,y,z) of the 100th element?"
   ]
  },
  {
   "cell_type": "code",
   "execution_count": 108,
   "metadata": {},
   "outputs": [
    {
     "name": "stdout",
     "output_type": "stream",
     "text": [
      "(6, 7, 8)\n",
      "336\n",
      "0.7890806629656109\n",
      "0.041698030918153495\n",
      "(1, 5, 4)\n",
      "100\n"
     ]
    }
   ],
   "source": [
    "X = np.random.random((6,7,8))\n",
    "\n",
    "print(X.shape)\n",
    "print(X.size)\n",
    "print(X[2][6][4])\n",
    "print(X[1][5][4])\n",
    "\n",
    "\n",
    "\n",
    "#np.info(np.unravel_index)\n",
    "print(np.unravel_index(100,(6,7,8)))\n",
    "print(np.ravel_multi_index((1,5,4), (6,7,8)))\n",
    "\n",
    "\n",
    "#print(np.where[X[100]])"
   ]
  },
  {
   "cell_type": "markdown",
   "metadata": {},
   "source": [
    "#### 21. Create a checkerboard 8x8 matrix using the tile function (★☆☆)"
   ]
  },
  {
   "cell_type": "code",
   "execution_count": 134,
   "metadata": {},
   "outputs": [
    {
     "data": {
      "text/plain": [
       "array([[0, 1, 0, 1, 0, 1, 0, 1],\n",
       "       [1, 0, 1, 0, 1, 0, 1, 0],\n",
       "       [0, 1, 0, 1, 0, 1, 0, 1],\n",
       "       [1, 0, 1, 0, 1, 0, 1, 0],\n",
       "       [0, 1, 0, 1, 0, 1, 0, 1],\n",
       "       [1, 0, 1, 0, 1, 0, 1, 0],\n",
       "       [0, 1, 0, 1, 0, 1, 0, 1],\n",
       "       [1, 0, 1, 0, 1, 0, 1, 0]])"
      ]
     },
     "execution_count": 134,
     "metadata": {},
     "output_type": "execute_result"
    }
   ],
   "source": [
    "#print(np.info(np.tile))\n",
    "#n = 8\n",
    "# arr = np.zeros((8,8))\n",
    "# print(arr)\n",
    "np.tile(np.array([[0, 1], [1, 0]]), (4, 4))"
   ]
  },
  {
   "cell_type": "markdown",
   "metadata": {},
   "source": [
    "#### 22. Normalize a 5x5 random matrix (★☆☆)"
   ]
  },
  {
   "cell_type": "code",
   "execution_count": 141,
   "metadata": {},
   "outputs": [
    {
     "name": "stdout",
     "output_type": "stream",
     "text": [
      "[[0.15330099 0.03896485 0.60800152 0.13902719 0.03380493]\n",
      " [0.98697698 0.1963141  0.47147014 0.3740278  0.4709244 ]\n",
      " [0.64052102 0.38728896 0.18953034 0.38285108 0.07299672]\n",
      " [0.47630816 0.09924821 0.49098386 0.13663346 0.33804989]\n",
      " [0.83216594 0.42417864 0.64274699 0.39983048 0.75324617]]\n",
      "0.033804929396661576\n",
      "0.9869769761187865\n",
      "[[0.12536673 0.00541342 0.60240604 0.11039167 0.        ]\n",
      " [1.         0.17049301 0.45916706 0.35693752 0.45859452]\n",
      " [0.63652317 0.37085018 0.16337598 0.36619428 0.04111723]\n",
      " [0.46424277 0.06865841 0.47963946 0.10788034 0.31919207]\n",
      " [0.83758332 0.4095522  0.6388585  0.38400785 0.75478634]]\n"
     ]
    }
   ],
   "source": [
    "A = np.random.random((5,5))\n",
    "print(A)\n",
    "Amin = A.min()\n",
    "Amax = A.max()\n",
    "print(Amin)\n",
    "print(Amax)\n",
    "x = A-Amin\n",
    "y = Amax-Amin\n",
    "print(x/y)\n"
   ]
  },
  {
   "cell_type": "markdown",
   "metadata": {},
   "source": [
    "#### 23. Create a custom dtype that describes a color as four unsigned bytes (RGBA) (★☆☆)"
   ]
  },
  {
   "cell_type": "code",
   "execution_count": 144,
   "metadata": {},
   "outputs": [
    {
     "name": "stdout",
     "output_type": "stream",
     "text": [
      "[('r', 'u1'), ('g', 'u1'), ('b', 'u1'), ('a', 'u1')]\n"
     ]
    },
    {
     "name": "stderr",
     "output_type": "stream",
     "text": [
      "C:\\Users\\user\\AppData\\Local\\Temp\\ipykernel_4872\\845989871.py:1: FutureWarning: Passing (type, 1) or '1type' as a synonym of type is deprecated; in a future version of numpy, it will be understood as (type, (1,)) / '(1,)type'.\n",
      "  color = np.dtype([(\"r\", np.ubyte, 1),\n"
     ]
    }
   ],
   "source": [
    "color = np.dtype([(\"r\", np.ubyte, 1),  # np.dtype is used to creat the data type object.\n",
    "                  (\"g\", np.ubyte, 1),\n",
    "                  (\"b\", np.ubyte, 1),\n",
    "                  (\"a\", np.ubyte, 1)])\n",
    "\n",
    "print(color)"
   ]
  },
  {
   "cell_type": "markdown",
   "metadata": {},
   "source": [
    "#### 24. Multiply a 5x3 matrix by a 3x2 matrix (real matrix product) (★☆☆)"
   ]
  },
  {
   "cell_type": "code",
   "execution_count": 152,
   "metadata": {},
   "outputs": [
    {
     "name": "stdout",
     "output_type": "stream",
     "text": [
      "[[ 0  1  2]\n",
      " [ 3  4  5]\n",
      " [ 6  7  8]\n",
      " [ 9 10 11]\n",
      " [12 13 14]]\n",
      "\n",
      " [[0 1]\n",
      " [2 3]\n",
      " [4 5]]\n",
      "The result of A * B = \n",
      " [[ 10  13]\n",
      " [ 28  40]\n",
      " [ 46  67]\n",
      " [ 64  94]\n",
      " [ 82 121]]\n"
     ]
    }
   ],
   "source": [
    "A = np.arange(15).reshape(5,3)\n",
    "print(A)\n",
    "B = np.arange(6).reshape(3,2)\n",
    "print('\\n', B)\n",
    "print(f\"The result of A * B = \\n {np.dot(A,B)}\")"
   ]
  },
  {
   "cell_type": "markdown",
   "metadata": {},
   "source": [
    "#### 25. Given a 1D array, negate all elements which are between 3 and 8, in place. (★☆☆)"
   ]
  },
  {
   "cell_type": "code",
   "execution_count": 155,
   "metadata": {},
   "outputs": [
    {
     "name": "stdout",
     "output_type": "stream",
     "text": [
      "[ 0  1  2 -3 -4 -5 -6 -7 -8  9 10]\n"
     ]
    }
   ],
   "source": [
    "x = np.arange(11)\n",
    "x[3:9] *= -1\n",
    "\n",
    "print(x)"
   ]
  },
  {
   "cell_type": "markdown",
   "metadata": {},
   "source": [
    "#### 26. What is the output of the following script? (★☆☆)\n",
    "```python\n",
    "# Author: Jake VanderPlas\n",
    "\n",
    "print(sum(range(5),-1))\n",
    "from numpy import *\n",
    "print(sum(range(5),-1))\n",
    "```"
   ]
  },
  {
   "cell_type": "code",
   "execution_count": 158,
   "metadata": {},
   "outputs": [
    {
     "name": "stdout",
     "output_type": "stream",
     "text": [
      "10\n",
      "10\n"
     ]
    }
   ],
   "source": [
    "print(sum(range(5),-1))\n",
    "from numpy import *\n",
    "print(sum(range(5),-1))\n",
    "\n",
    "\n"
   ]
  },
  {
   "cell_type": "markdown",
   "metadata": {},
   "source": [
    "#### 27. Consider an integer vector Z, which of these expressions are legal? (★☆☆)\n",
    "```python\n",
    "Z**Z\n",
    "2 << Z >> 2\n",
    "Z <- Z\n",
    "1j*Z\n",
    "Z/1/1\n",
    "Z<Z>Z\n",
    "```"
   ]
  },
  {
   "cell_type": "code",
   "execution_count": 168,
   "metadata": {},
   "outputs": [
    {
     "name": "stdout",
     "output_type": "stream",
     "text": [
      "[0 1 2 3 4]\n",
      "[  1   1   4  27 256]\n",
      "[0 1 2 4 8]\n"
     ]
    },
    {
     "ename": "ValueError",
     "evalue": "The truth value of an array with more than one element is ambiguous. Use a.any() or a.all()",
     "output_type": "error",
     "traceback": [
      "\u001b[1;31m---------------------------------------------------------------------------\u001b[0m",
      "\u001b[1;31mValueError\u001b[0m                                Traceback (most recent call last)",
      "\u001b[1;32mc:\\Users\\user\\Desktop\\Training\\ANT-Theano-4\\content\\3.data_tools\\numPy\\01.Drill_numpy.ipynb Cell 56'\u001b[0m in \u001b[0;36m<cell line: 8>\u001b[1;34m()\u001b[0m\n\u001b[0;32m      <a href='vscode-notebook-cell:/c%3A/Users/user/Desktop/Training/ANT-Theano-4/content/3.data_tools/numPy/01.Drill_numpy.ipynb#ch0000054?line=5'>6</a>\u001b[0m \u001b[39m1\u001b[39mj \u001b[39m*\u001b[39m z\n\u001b[0;32m      <a href='vscode-notebook-cell:/c%3A/Users/user/Desktop/Training/ANT-Theano-4/content/3.data_tools/numPy/01.Drill_numpy.ipynb#ch0000054?line=6'>7</a>\u001b[0m z\u001b[39m/\u001b[39m\u001b[39m1\u001b[39m\u001b[39m/\u001b[39m\u001b[39m1\u001b[39m\n\u001b[1;32m----> <a href='vscode-notebook-cell:/c%3A/Users/user/Desktop/Training/ANT-Theano-4/content/3.data_tools/numPy/01.Drill_numpy.ipynb#ch0000054?line=7'>8</a>\u001b[0m z\u001b[39m<\u001b[39mz\u001b[39m>\u001b[39mz\n",
      "\u001b[1;31mValueError\u001b[0m: The truth value of an array with more than one element is ambiguous. Use a.any() or a.all()"
     ]
    }
   ],
   "source": [
    "z = np.arange(5)\n",
    "print(z)\n",
    "print(z**z)\n",
    "print(2 << z >> 2)\n",
    "z <- z\n",
    "1j * z\n",
    "z/1/1\n",
    "z<z>z\n"
   ]
  },
  {
   "cell_type": "markdown",
   "metadata": {},
   "source": [
    "#### 28. What are the result of the following expressions?\n",
    "```python\n",
    "np.array(0) / np.array(0)\n",
    "np.array(0) // np.array(0)\n",
    "np.array([np.nan]).astype(int).astype(float)\n",
    "```"
   ]
  },
  {
   "cell_type": "code",
   "execution_count": 169,
   "metadata": {},
   "outputs": [
    {
     "name": "stderr",
     "output_type": "stream",
     "text": [
      "C:\\Users\\user\\AppData\\Local\\Temp\\ipykernel_4872\\1729466501.py:1: RuntimeWarning: invalid value encountered in true_divide\n",
      "  np.array(0) / np.array(0)\n",
      "C:\\Users\\user\\AppData\\Local\\Temp\\ipykernel_4872\\1729466501.py:2: RuntimeWarning: divide by zero encountered in floor_divide\n",
      "  np.array(0) // np.array(0)\n"
     ]
    },
    {
     "data": {
      "text/plain": [
       "array([-2.14748365e+09])"
      ]
     },
     "execution_count": 169,
     "metadata": {},
     "output_type": "execute_result"
    }
   ],
   "source": [
    "np.array(0) / np.array(0)\n",
    "np.array(0) // np.array(0)\n",
    "np.array([np.nan]).astype(int).astype(float)\n"
   ]
  },
  {
   "cell_type": "markdown",
   "metadata": {},
   "source": [
    "#### 29. How to round away from zero a float array ? (★☆☆)"
   ]
  },
  {
   "cell_type": "code",
   "execution_count": 171,
   "metadata": {},
   "outputs": [
    {
     "data": {
      "text/plain": [
       "array([-1., -2., -4., -2., -1.])"
      ]
     },
     "execution_count": 171,
     "metadata": {},
     "output_type": "execute_result"
    }
   ],
   "source": [
    "x = np.random.uniform(-5, +5, 5)\n",
    "np.copysign(np.ceil(np.abs(x)), x)"
   ]
  },
  {
   "cell_type": "markdown",
   "metadata": {},
   "source": [
    "#### 30. How to find common values between two arrays? (★☆☆)"
   ]
  },
  {
   "cell_type": "code",
   "execution_count": 175,
   "metadata": {},
   "outputs": [
    {
     "data": {
      "text/plain": [
       "array([0, 1, 2, 3, 4, 5])"
      ]
     },
     "execution_count": 175,
     "metadata": {},
     "output_type": "execute_result"
    }
   ],
   "source": [
    "a = np.arange(6).reshape(2,3)\n",
    "b = np.arange(12).reshape(3,4)\n",
    "np.intersect1d(a,b)"
   ]
  }
 ],
 "metadata": {
  "interpreter": {
   "hash": "fb4569285eef3a3450cb62085a5b1e0da4bce0af555edc33dcf29baf3acc1368"
  },
  "kernelspec": {
   "display_name": "Python 3.10.4 64-bit",
   "language": "python",
   "name": "python3"
  },
  "language_info": {
   "codemirror_mode": {
    "name": "ipython",
    "version": 3
   },
   "file_extension": ".py",
   "mimetype": "text/x-python",
   "name": "python",
   "nbconvert_exporter": "python",
   "pygments_lexer": "ipython3",
   "version": "3.10.4"
  },
  "toc": {
   "base_numbering": 1,
   "nav_menu": {},
   "number_sections": true,
   "sideBar": true,
   "skip_h1_title": false,
   "title_cell": "Table of Contents",
   "title_sidebar": "Contents",
   "toc_cell": false,
   "toc_position": {},
   "toc_section_display": true,
   "toc_window_display": false
  }
 },
 "nbformat": 4,
 "nbformat_minor": 2
}
